{
 "cells": [
  {
   "cell_type": "code",
   "execution_count": 1,
   "id": "833c1409",
   "metadata": {},
   "outputs": [],
   "source": [
    "import requests\n",
    "import bs4"
   ]
  },
  {
   "cell_type": "code",
   "execution_count": 2,
   "id": "ffd4d47d",
   "metadata": {},
   "outputs": [],
   "source": [
    "#connecting to website\n",
    "base_url = 'https://www.fantasypros.com/nfl/reports/leaders/ppr-{}.php?year=2022'"
   ]
  },
  {
   "cell_type": "code",
   "execution_count": 3,
   "id": "3208f3a1",
   "metadata": {},
   "outputs": [
    {
     "name": "stdout",
     "output_type": "stream",
     "text": [
      "Choose a position: rb\n"
     ]
    }
   ],
   "source": [
    "\n",
    "\n",
    "\n",
    "\n",
    "while True:\n",
    "    \n",
    "    try:\n",
    "        position = input('Choose a position: ').lower()\n",
    "        options = ('rb','wr','te')    \n",
    "            \n",
    "        \n",
    "        if position in options:\n",
    "            break\n",
    "        print(\"Sorry, that choice is invalid\")\n",
    "        print(\"Example choice: rb,wr....etc\")\n",
    "    except Exception as e:\n",
    "        print(e)\n",
    "    \n",
    "    \n",
    "    \n",
    "    \n",
    "                \n",
    "            \n",
    "                \n",
    "    \n",
    "\n",
    "    \n",
    "       \n",
    "            \n",
    "            \n",
    "        \n",
    "        \n",
    "        \n"
   ]
  },
  {
   "cell_type": "code",
   "execution_count": 4,
   "id": "edf354f3",
   "metadata": {},
   "outputs": [],
   "source": [
    "resy = requests.get(base_url.format(position))"
   ]
  },
  {
   "cell_type": "code",
   "execution_count": 5,
   "id": "c1df0914",
   "metadata": {},
   "outputs": [],
   "source": [
    "sopa = bs4.BeautifulSoup(resy.text,'lxml')"
   ]
  },
  {
   "cell_type": "code",
   "execution_count": 6,
   "id": "bc918fc3",
   "metadata": {},
   "outputs": [],
   "source": [
    "player_list = sopa.select('.player-name')"
   ]
  },
  {
   "cell_type": "code",
   "execution_count": 7,
   "id": "8e89ffa1",
   "metadata": {},
   "outputs": [
    {
     "data": {
      "text/plain": [
       "[<a class=\"player-name\" href=\"/nfl/players/austin-ekeler.php\">Austin Ekeler</a>,\n",
       " <a class=\"player-name\" href=\"/nfl/players/christian-mccaffrey.php\">Christian McCaffrey</a>,\n",
       " <a class=\"player-name\" href=\"/nfl/players/saquon-barkley.php\">Saquon Barkley</a>,\n",
       " <a class=\"player-name\" href=\"/nfl/players/nick-chubb.php\">Nick Chubb</a>,\n",
       " <a class=\"player-name\" href=\"/nfl/players/derrick-henry.php\">Derrick Henry</a>,\n",
       " <a class=\"player-name\" href=\"/nfl/players/josh-jacobs.php\">Josh Jacobs</a>,\n",
       " <a class=\"player-name\" href=\"/nfl/players/joe-mixon.php\">Joe Mixon</a>,\n",
       " <a class=\"player-name\" href=\"/nfl/players/aaron-jones.php\">Aaron Jones</a>,\n",
       " <a class=\"player-name\" href=\"/nfl/players/leonard-fournette.php\">Leonard Fournette</a>,\n",
       " <a class=\"player-name\" href=\"/nfl/players/rhamondre-stevenson.php\">Rhamondre Stevenson</a>,\n",
       " <a class=\"player-name\" href=\"/nfl/players/dalvin-cook.php\">Dalvin Cook</a>,\n",
       " <a class=\"player-name\" href=\"/nfl/players/travis-etienne.php\">Travis Etienne Jr.</a>,\n",
       " <a class=\"player-name\" href=\"/nfl/players/dameon-pierce.php\">Dameon Pierce</a>,\n",
       " <a class=\"player-name\" href=\"/nfl/players/alvin-kamara.php\">Alvin Kamara</a>,\n",
       " <a class=\"player-name\" href=\"/nfl/players/jamaal-williams.php\">Jamaal Williams</a>,\n",
       " <a class=\"player-name\" href=\"/nfl/players/kenneth-walker-rb.php\">Kenneth Walker III</a>,\n",
       " <a class=\"player-name\" href=\"/nfl/players/antonio-gibson.php\">Antonio Gibson</a>,\n",
       " <a class=\"player-name\" href=\"/nfl/players/tony-pollard.php\">Tony Pollard</a>,\n",
       " <a class=\"player-name\" href=\"/nfl/players/miles-sanders.php\">Miles Sanders</a>,\n",
       " <a class=\"player-name\" href=\"/nfl/players/breece-hall.php\">Breece Hall</a>,\n",
       " <a class=\"player-name\" href=\"/nfl/players/jeffery-wilson.php\">Jeff Wilson Jr.</a>,\n",
       " <a class=\"player-name\" href=\"/nfl/players/raheem-mostert.php\">Raheem Mostert</a>,\n",
       " <a class=\"player-name\" href=\"/nfl/players/khalil-herbert.php\">Khalil Herbert</a>,\n",
       " <a class=\"player-name\" href=\"/nfl/players/devin-singletary.php\">Devin Singletary</a>,\n",
       " <a class=\"player-name\" href=\"/nfl/players/clyde-edwards-helaire.php\">Clyde Edwards-Helaire</a>,\n",
       " <a class=\"player-name\" href=\"/nfl/players/najee-harris-rb.php\">Najee Harris</a>,\n",
       " <a class=\"player-name\" href=\"/nfl/players/michael-carter-rb.php\">Michael Carter</a>,\n",
       " <a class=\"player-name\" href=\"/nfl/players/jonathan-taylor.php\">Jonathan Taylor</a>,\n",
       " <a class=\"player-name\" href=\"/nfl/players/kareem-hunt.php\">Kareem Hunt</a>,\n",
       " <a class=\"player-name\" href=\"/nfl/players/james-robinson.php\">James Robinson</a>,\n",
       " <a class=\"player-name\" href=\"/nfl/players/eno-benjamin.php\">Eno Benjamin</a>,\n",
       " <a class=\"player-name\" href=\"/nfl/players/james-conner.php\">James Conner</a>,\n",
       " <a class=\"player-name\" href=\"/nfl/players/david-montgomery.php\">David Montgomery</a>,\n",
       " <a class=\"player-name\" href=\"/nfl/players/dandre-swift.php\">D'Andre Swift</a>,\n",
       " <a class=\"player-name\" href=\"/nfl/players/cordarrelle-patterson.php\">Cordarrelle Patterson</a>,\n",
       " <a class=\"player-name\" href=\"/nfl/players/ezekiel-elliott.php\">Ezekiel Elliott</a>,\n",
       " <a class=\"player-name\" href=\"/nfl/players/aj-dillon.php\">AJ Dillon</a>,\n",
       " <a class=\"player-name\" href=\"/nfl/players/donta-foreman.php\">D'Onta Foreman</a>,\n",
       " <a class=\"player-name\" href=\"/nfl/players/melvin-gordon.php\">Melvin Gordon III</a>,\n",
       " <a class=\"player-name\" href=\"/nfl/players/tyler-allgeier.php\">Tyler Allgeier</a>,\n",
       " <a class=\"player-name\" href=\"/nfl/players/darrell-henderson.php\">Darrell Henderson Jr.</a>,\n",
       " <a class=\"player-name\" href=\"/nfl/players/kenyan-drake.php\">Kenyan Drake</a>,\n",
       " <a class=\"player-name\" href=\"/nfl/players/jerick-mckinnon.php\">Jerick McKinnon</a>,\n",
       " <a class=\"player-name\" href=\"/nfl/players/damien-harris-rb.php\">Damien Harris</a>,\n",
       " <a class=\"player-name\" href=\"/nfl/players/dontrell-hilliard.php\">Dontrell Hilliard</a>,\n",
       " <a class=\"player-name\" href=\"/nfl/players/rachaad-white.php\">Rachaad White</a>,\n",
       " <a class=\"player-name\" href=\"/nfl/players/rex-burkhead.php\">Rex Burkhead</a>,\n",
       " <a class=\"player-name\" href=\"/nfl/players/jd-mckissic.php\">J.D. McKissic</a>,\n",
       " <a class=\"player-name\" href=\"/nfl/players/nyheim-hines.php\">Nyheim Hines</a>,\n",
       " <a class=\"player-name\" href=\"/nfl/players/rashaad-penny.php\">Rashaad Penny</a>,\n",
       " <a class=\"player-name\" href=\"/nfl/players/latavius-murray.php\">Latavius Murray</a>,\n",
       " <a class=\"player-name\" href=\"/nfl/players/chase-edmonds.php\">Chase Edmonds</a>,\n",
       " <a class=\"player-name\" href=\"/nfl/players/samaje-perine.php\">Samaje Perine</a>,\n",
       " <a class=\"player-name\" href=\"/nfl/players/alexander-mattison.php\">Alexander Mattison</a>,\n",
       " <a class=\"player-name\" href=\"/nfl/players/brian-robinson-jr.php\">Brian Robinson Jr.</a>,\n",
       " <a class=\"player-name\" href=\"/nfl/players/jaylen-warren.php\">Jaylen Warren</a>,\n",
       " <a class=\"player-name\" href=\"/nfl/players/deon-jackson.php\">Deon Jackson</a>,\n",
       " <a class=\"player-name\" href=\"/nfl/players/kenneth-gainwell.php\">Kenneth Gainwell</a>,\n",
       " <a class=\"player-name\" href=\"/nfl/players/javonte-williams.php\">Javonte Williams</a>,\n",
       " <a class=\"player-name\" href=\"/nfl/players/mark-ingram.php\">Mark Ingram II</a>,\n",
       " <a class=\"player-name\" href=\"/nfl/players/caleb-huntley.php\">Caleb Huntley</a>,\n",
       " <a class=\"player-name\" href=\"/nfl/players/james-cook.php\">James Cook</a>,\n",
       " <a class=\"player-name\" href=\"/nfl/players/isiah-pacheco.php\">Isiah Pacheco</a>,\n",
       " <a class=\"player-name\" href=\"/nfl/players/jk-dobbins.php\">J.K. Dobbins</a>,\n",
       " <a class=\"player-name\" href=\"/nfl/players/kyle-juszczyk.php\">Kyle Juszczyk</a>,\n",
       " <a class=\"player-name\" href=\"/nfl/players/alec-ingold.php\">Alec Ingold</a>,\n",
       " <a class=\"player-name\" href=\"/nfl/players/craig-reynolds.php\">Craig Reynolds</a>,\n",
       " <a class=\"player-name\" href=\"/nfl/players/joshua-kelley.php\">Joshua Kelley</a>,\n",
       " <a class=\"player-name\" href=\"/nfl/players/cam-akers.php\">Cam Akers</a>,\n",
       " <a class=\"player-name\" href=\"/nfl/players/gus-edwards.php\">Gus Edwards</a>,\n",
       " <a class=\"player-name\" href=\"/nfl/players/jamycal-hasty.php\">JaMycal Hasty</a>,\n",
       " <a class=\"player-name\" href=\"/nfl/players/sony-michel.php\">Sony Michel</a>,\n",
       " <a class=\"player-name\" href=\"/nfl/players/justice-hill.php\">Justice Hill</a>,\n",
       " <a class=\"player-name\" href=\"/nfl/players/brandon-bolden.php\">Brandon Bolden</a>,\n",
       " <a class=\"player-name\" href=\"/nfl/players/avery-williams-cb.php\">Avery Williams</a>,\n",
       " <a class=\"player-name\" href=\"/nfl/players/tevin-coleman.php\">Tevin Coleman</a>,\n",
       " <a class=\"player-name\" href=\"/nfl/players/ameer-abdullah.php\">Ameer Abdullah</a>,\n",
       " <a class=\"player-name\" href=\"/nfl/players/darrel-williams.php\">Darrel Williams</a>,\n",
       " <a class=\"player-name\" href=\"/nfl/players/matt-breida.php\">Matt Breida</a>,\n",
       " <a class=\"player-name\" href=\"/nfl/players/mike-boone.php\">Mike Boone</a>,\n",
       " <a class=\"player-name\" href=\"/nfl/players/travis-homer.php\">Travis Homer</a>,\n",
       " <a class=\"player-name\" href=\"/nfl/players/chuba-hubbard.php\">Chuba Hubbard</a>,\n",
       " <a class=\"player-name\" href=\"/nfl/players/reggie-gilliam.php\">Reggie Gilliam</a>,\n",
       " <a class=\"player-name\" href=\"/nfl/players/zander-horvath.php\">Zander Horvath</a>,\n",
       " <a class=\"player-name\" href=\"/nfl/players/raheem-blackshear.php\">Raheem Blackshear</a>,\n",
       " <a class=\"player-name\" href=\"/nfl/players/justin-jackson-rb.php\">Justin Jackson</a>,\n",
       " <a class=\"player-name\" href=\"/nfl/players/zack-moss.php\">Zack Moss</a>,\n",
       " <a class=\"player-name\" href=\"/nfl/players/patrick-ricard.php\">Patrick Ricard</a>,\n",
       " <a class=\"player-name\" href=\"/nfl/players/phillip-lindsay.php\">Phillip Lindsay</a>,\n",
       " <a class=\"player-name\" href=\"/nfl/players/boston-scott.php\">Boston Scott</a>,\n",
       " <a class=\"player-name\" href=\"/nfl/players/dare-ogunbowale.php\">Dare Ogunbowale</a>,\n",
       " <a class=\"player-name\" href=\"/nfl/players/elijah-mitchell-rb.php\">Elijah Mitchell</a>,\n",
       " <a class=\"player-name\" href=\"/nfl/players/deejay-dallas.php\">DeeJay Dallas</a>,\n",
       " <a class=\"player-name\" href=\"/nfl/players/keaontay-ingram.php\">Keaontay Ingram</a>,\n",
       " <a class=\"player-name\" href=\"/nfl/players/cj-ham.php\">C.J. Ham</a>,\n",
       " <a class=\"player-name\" href=\"/nfl/players/derek-watt.php\">Derek Watt</a>,\n",
       " <a class=\"player-name\" href=\"/nfl/players/ty-montgomery.php\">Ty Montgomery</a>,\n",
       " <a class=\"player-name\" href=\"/nfl/players/ronnie-rivers.php\">Ronnie Rivers</a>,\n",
       " <a class=\"player-name\" href=\"/nfl/players/malik-davis.php\">Malik Davis</a>,\n",
       " <a class=\"player-name\" href=\"/nfl/players/jordan-wilkins.php\">Jordan Wilkins</a>,\n",
       " <a class=\"player-name\" href=\"/nfl/players/hassan-haskins.php\">Hassan Haskins</a>,\n",
       " <a class=\"player-name\" href=\"/nfl/players/gary-brightwell.php\">Gary Brightwell</a>,\n",
       " <a class=\"player-name\" href=\"/nfl/players/malcolm-brown.php\">Malcolm Brown</a>,\n",
       " <a class=\"player-name\" href=\"/nfl/players/spencer-brown-rb.php\">Spencer Brown</a>,\n",
       " <a class=\"player-name\" href=\"/nfl/players/kyren-williams.php\">Kyren Williams</a>,\n",
       " <a class=\"player-name\" href=\"/nfl/players/myles-gaskin.php\">Myles Gaskin</a>,\n",
       " <a class=\"player-name\" href=\"/nfl/players/ty-johnson.php\">Ty Johnson</a>,\n",
       " <a class=\"player-name\" href=\"/nfl/players/dwayne-washington.php\">Dwayne Washington</a>,\n",
       " <a class=\"player-name\" href=\"/nfl/players/jonathan-williams.php\">Jonathan Williams</a>,\n",
       " <a class=\"player-name\" href=\"/nfl/players/trestan-ebner.php\">Trestan Ebner</a>,\n",
       " <a class=\"player-name\" href=\"/nfl/players/dernest-johnson.php\">D'Ernest Johnson</a>,\n",
       " <a class=\"player-name\" href=\"/nfl/players/chris-evans.php\">Chris Evans</a>,\n",
       " <a class=\"player-name\" href=\"/nfl/players/tony-jones-rb.php\">Tony Jones Jr.</a>,\n",
       " <a class=\"player-name\" href=\"/nfl/players/michael-burton.php\">Michael Burton</a>,\n",
       " <a class=\"player-name\" href=\"/nfl/players/tyrion-davis-price.php\">Tyrion Davis-Price</a>,\n",
       " <a class=\"player-name\" href=\"/nfl/players/mike-davis-rb.php\">Mike Davis</a>,\n",
       " <a class=\"player-name\" href=\"/nfl/players/jj-taylor.php\">J.J. Taylor</a>,\n",
       " <a class=\"player-name\" href=\"/nfl/players/keshawn-vaughn.php\">Ke'Shawn Vaughn</a>,\n",
       " <a class=\"player-name\" href=\"/nfl/players/isaiah-spiller.php\">Isaiah Spiller</a>,\n",
       " <a class=\"player-name\" href=\"/nfl/players/jakob-johnson.php\">Jakob Johnson</a>,\n",
       " <a class=\"player-name\" href=\"/nfl/players/keith-smith.php\">Keith Smith</a>,\n",
       " <a class=\"player-name\" href=\"/nfl/players/zamir-white.php\">Zamir White</a>,\n",
       " <a class=\"player-name\" href=\"/nfl/players/damarea-crockett.php\">Damarea Crockett</a>,\n",
       " <a class=\"player-name\" href=\"/nfl/players/trey-sermon.php\">Trey Sermon</a>,\n",
       " <a class=\"player-name\" href=\"/nfl/players/salvon-ahmed.php\">Salvon Ahmed</a>,\n",
       " <a class=\"player-name\" href=\"/nfl/players/adam-prentice.php\">Adam Prentice</a>,\n",
       " <a class=\"player-name\" href=\"/nfl/players/demetric-felton.php\">Demetric Felton Jr.</a>,\n",
       " <a class=\"player-name\" href=\"/nfl/players/kylin-hill.php\">Kylin Hill</a>,\n",
       " <a class=\"player-name\" href=\"/nfl/players/jordan-mason.php\">Jordan Mason</a>,\n",
       " <a class=\"player-name\" href=\"/nfl/players/kevin-harris.php\">Kevin Harris</a>,\n",
       " <a class=\"player-name\" href=\"/nfl/players/pierre-strong-jr.php\">Pierre Strong Jr.</a>,\n",
       " <a class=\"player-name\" href=\"/nfl/players/duke-johnson.php\">Duke Johnson Jr.</a>,\n",
       " <a class=\"player-name\" href=\"/nfl/players/devine-ozigbo.php\">Devine Ozigbo</a>,\n",
       " <a class=\"player-name\" href=\"/nfl/players/damien-williams.php\">Damien Williams</a>,\n",
       " <a class=\"player-name\" href=\"/nfl/players/jordan-howard.php\">Jordan Howard</a>,\n",
       " <a class=\"player-name\" href=\"/nfl/players/kene-nwangwu.php\">Kene Nwangwu</a>,\n",
       " <a class=\"player-name\" href=\"/nfl/players/khari-blasingame.php\">Khari Blasingame</a>,\n",
       " <a class=\"player-name\" href=\"/nfl/players/sandro-platzgummer.php\">Sandro Platzgummer</a>,\n",
       " <a class=\"player-name\" href=\"/nfl/players/larry-rountree.php\">Larry Rountree III</a>,\n",
       " <a class=\"player-name\" href=\"/nfl/players/giovani-bernard.php\">Giovani Bernard</a>,\n",
       " <a class=\"player-name\" href=\"/nfl/players/lamical-perine.php\">La'Mical Perine</a>,\n",
       " <a class=\"player-name\" href=\"/nfl/players/benjamin-snell-jr.php\">Benny Snell Jr.</a>,\n",
       " <a class=\"player-name\" href=\"/nfl/players/qadree-ollison.php\">Qadree Ollison</a>,\n",
       " <a class=\"player-name\" href=\"/nfl/players/rico-dowdle.php\">Rico Dowdle</a>,\n",
       " <a class=\"player-name\" href=\"/nfl/players/kenjon-barner.php\">Kenjon Barner</a>,\n",
       " <a class=\"player-name\" href=\"/nfl/players/trayveon-williams.php\">Trayveon Williams</a>,\n",
       " <a class=\"player-name\" href=\"/nfl/players/brandin-bryant.php\">Brandin Bryant</a>,\n",
       " <a class=\"player-name\" href=\"/nfl/players/ward-jonathan.php\">Jonathan Ward</a>,\n",
       " <a class=\"player-name\" href=\"/nfl/players/john-lovett-rb.php\">John Lovett</a>,\n",
       " <a class=\"player-name\" href=\"/nfl/players/jermar-jefferson.php\">Jermar Jefferson</a>,\n",
       " <a class=\"player-name\" href=\"/nfl/players/patrick-taylor.php\">Patrick Taylor Jr.</a>,\n",
       " <a class=\"player-name\" href=\"/nfl/players/trenton-cannon.php\">Trenton Cannon</a>,\n",
       " <a class=\"player-name\" href=\"/nfl/players/taiwan-jones.php\">Taiwan Jones</a>,\n",
       " <a class=\"player-name\" href=\"/nfl/players/jerome-ford.php\">Jerome Ford</a>,\n",
       " <a class=\"player-name\" href=\"/nfl/players/jake-funk.php\">Jake Funk</a>,\n",
       " <a class=\"player-name\" href=\"/nfl/players/cullen-gillaspia.php\">Cullen Gillaspia</a>,\n",
       " <a class=\"player-name\" href=\"/nfl/players/marlon-mack.php\">Marlon Mack</a>,\n",
       " <a class=\"player-name\" href=\"/nfl/players/ty-chandler.php\">Ty Chandler</a>]"
      ]
     },
     "execution_count": 7,
     "metadata": {},
     "output_type": "execute_result"
    }
   ],
   "source": [
    "player_list"
   ]
  },
  {
   "cell_type": "code",
   "execution_count": 7,
   "id": "ab7f5c0d",
   "metadata": {},
   "outputs": [],
   "source": [
    "top_25_player = player_list[:25]"
   ]
  },
  {
   "cell_type": "code",
   "execution_count": 8,
   "id": "9399663e",
   "metadata": {},
   "outputs": [],
   "source": [
    "player = []\n",
    "    \n",
    "for p in top_25_player:\n",
    "    player.append(p.text)"
   ]
  },
  {
   "cell_type": "code",
   "execution_count": 9,
   "id": "d8af0f29",
   "metadata": {},
   "outputs": [
    {
     "data": {
      "text/plain": [
       "['Austin Ekeler',\n",
       " 'Joe Mixon',\n",
       " 'Derrick Henry',\n",
       " 'Christian McCaffrey',\n",
       " 'Nick Chubb',\n",
       " 'Saquon Barkley',\n",
       " 'Josh Jacobs',\n",
       " 'Rhamondre Stevenson',\n",
       " 'Leonard Fournette',\n",
       " 'Aaron Jones',\n",
       " 'Travis Etienne Jr.',\n",
       " 'Alvin Kamara',\n",
       " 'Dalvin Cook',\n",
       " 'Dameon Pierce',\n",
       " 'Jamaal Williams',\n",
       " 'Miles Sanders',\n",
       " 'Kenneth Walker III',\n",
       " 'Breece Hall',\n",
       " 'Antonio Gibson',\n",
       " 'Tony Pollard',\n",
       " 'Khalil Herbert',\n",
       " 'Clyde Edwards-Helaire',\n",
       " 'Michael Carter',\n",
       " 'Jeff Wilson Jr.',\n",
       " 'Raheem Mostert']"
      ]
     },
     "execution_count": 9,
     "metadata": {},
     "output_type": "execute_result"
    }
   ],
   "source": [
    "player"
   ]
  },
  {
   "cell_type": "code",
   "execution_count": null,
   "id": "fb4de8be",
   "metadata": {},
   "outputs": [],
   "source": []
  },
  {
   "cell_type": "code",
   "execution_count": null,
   "id": "3ddaa1ad",
   "metadata": {},
   "outputs": [],
   "source": []
  },
  {
   "cell_type": "code",
   "execution_count": 10,
   "id": "7e3c5380",
   "metadata": {},
   "outputs": [],
   "source": [
    "p_points = sopa.select('td')[3:150:6]\n"
   ]
  },
  {
   "cell_type": "code",
   "execution_count": 11,
   "id": "37272b1d",
   "metadata": {},
   "outputs": [],
   "source": [
    "points = []\n",
    "    \n",
    "for p in p_points:\n",
    "    points.append(p.text)\n",
    "        \n",
    "   \n",
    "    "
   ]
  },
  {
   "cell_type": "code",
   "execution_count": 12,
   "id": "fd607ccb",
   "metadata": {
    "scrolled": true
   },
   "outputs": [
    {
     "data": {
      "text/plain": [
       "['198.8',\n",
       " '171.7',\n",
       " '169.0',\n",
       " '166.5',\n",
       " '163.1',\n",
       " '156.8',\n",
       " '152.5',\n",
       " '149.5',\n",
       " '143.9',\n",
       " '135.0',\n",
       " '128.4',\n",
       " '126.2',\n",
       " '125.7',\n",
       " '121.6',\n",
       " '117.2',\n",
       " '116.8',\n",
       " '115.8',\n",
       " '115.1',\n",
       " '111.7',\n",
       " '104.7',\n",
       " '100.8',\n",
       " '97.4',\n",
       " '95.6',\n",
       " '90.1',\n",
       " '88.5']"
      ]
     },
     "execution_count": 12,
     "metadata": {},
     "output_type": "execute_result"
    }
   ],
   "source": [
    "points\n",
    "    "
   ]
  },
  {
   "cell_type": "code",
   "execution_count": 13,
   "id": "ba32e117",
   "metadata": {},
   "outputs": [],
   "source": [
    "avg_per_game = sopa.select('td')[5:150:6]"
   ]
  },
  {
   "cell_type": "code",
   "execution_count": 14,
   "id": "e78d6fac",
   "metadata": {},
   "outputs": [],
   "source": [
    "average = []\n",
    "    \n",
    "for a in avg_per_game:\n",
    "    average.append(a.text)\n",
    "    "
   ]
  },
  {
   "cell_type": "code",
   "execution_count": 15,
   "id": "5be81786",
   "metadata": {},
   "outputs": [
    {
     "data": {
      "text/plain": [
       "['24.9',\n",
       " '19.1',\n",
       " '21.1',\n",
       " '20.8',\n",
       " '20.4',\n",
       " '19.6',\n",
       " '19.1',\n",
       " '16.6',\n",
       " '16.0',\n",
       " '15.0',\n",
       " '14.3',\n",
       " '18.0',\n",
       " '15.7',\n",
       " '15.2',\n",
       " '14.7',\n",
       " '14.6',\n",
       " '14.5',\n",
       " '16.4',\n",
       " '12.4',\n",
       " '13.1',\n",
       " '11.2',\n",
       " '12.2',\n",
       " '10.6',\n",
       " '10.0',\n",
       " '9.8']"
      ]
     },
     "execution_count": 15,
     "metadata": {},
     "output_type": "execute_result"
    }
   ],
   "source": [
    "average"
   ]
  },
  {
   "cell_type": "code",
   "execution_count": 16,
   "id": "f7393189",
   "metadata": {},
   "outputs": [],
   "source": [
    "import datetime\n",
    "\n",
    "today = datetime.date.today()\n",
    "\n",
    "\n",
    "\n"
   ]
  },
  {
   "cell_type": "code",
   "execution_count": 17,
   "id": "818d2387",
   "metadata": {},
   "outputs": [
    {
     "data": {
      "text/plain": [
       "datetime.date(2022, 11, 11)"
      ]
     },
     "execution_count": 17,
     "metadata": {},
     "output_type": "execute_result"
    }
   ],
   "source": [
    "today"
   ]
  },
  {
   "cell_type": "code",
   "execution_count": 18,
   "id": "e7f92b87",
   "metadata": {},
   "outputs": [],
   "source": [
    "import csv\n",
    "\n",
    "header = ['Player','Points','Average','Date']\n",
    "data = [player,points,average,today]\n",
    " \n",
    "\n",
    "with open('Fantasy_Football_Top_25.csv','w',newline='',encoding='UTF8') as f:\n",
    "    \n",
    "    writer = csv.writer(f)\n",
    "    writer.writerow(header)\n",
    "    writer.writerow(data)\n",
    "    \n",
    "    "
   ]
  },
  {
   "cell_type": "code",
   "execution_count": 19,
   "id": "d30a668c",
   "metadata": {},
   "outputs": [],
   "source": [
    "import pandas as pd\n",
    "\n",
    "\n",
    "dict = {\"Player\": player, \"Points\": points,\n",
    "        \"Average\": average, \"date\": today}\n",
    "\n",
    "df = pd.DataFrame(dict)\n",
    "\n",
    "df.to_csv('Fantasy_Football_Top_25.csv')"
   ]
  },
  {
   "cell_type": "code",
   "execution_count": 6,
   "id": "e51edff6",
   "metadata": {},
   "outputs": [],
   "source": [
    "def fantasy_update():\n",
    "    import requests\n",
    "    import bs4\n",
    "    \n",
    "    #connecting to website\n",
    "    base_url = 'https://www.fantasypros.com/nfl/reports/leaders/ppr-{}.php?year=2022'\n",
    "    #checking use input\n",
    "    while True:\n",
    "    \n",
    "        try:\n",
    "            position = input('Choose a position: ').lower()\n",
    "            options = ('rb','wr','te')    \n",
    "            \n",
    "        \n",
    "            if position in options:\n",
    "                break\n",
    "            \n",
    "            print(\"Sorry, that choice is invalid\")\n",
    "            print(\"Example choice: rb,wr....etc\")\n",
    "        except Exception as e:\n",
    "            print(e)\n",
    "\n",
    "    resy = requests.get(base_url.format(position))\n",
    "    sopa = bs4.BeautifulSoup(resy.text,'lxml')\n",
    "    player_list = sopa.select('.player-name')\n",
    "    \n",
    "    #retrieving top 25 players\n",
    "    top_25_player = player_list[:25]\n",
    "    player = []\n",
    "    \n",
    "    for p in top_25_player:\n",
    "        player.append(p.text)\n",
    "    \n",
    "    #retrieving top 25 points    \n",
    "    p_points = sopa.select('td')[3:150:6]\n",
    "    points = []\n",
    "    \n",
    "    for p in p_points:\n",
    "        points.append(p.text)\n",
    "        \n",
    "    #retrieving top 25 average\n",
    "    avg_per_game = sopa.select('td')[5:150:6]\n",
    "    average = []\n",
    "    \n",
    "    for a in avg_per_game:\n",
    "        average.append(a.text)\n",
    "        \n",
    "    import datetime\n",
    "\n",
    "    today = datetime.date.today()\n",
    "    \n",
    "    import pandas as pd\n",
    "\n",
    "\n",
    "    dict = {\"Player\": player, \"Points\": points,\n",
    "        \"Average\": average, \"date\": today}\n",
    "\n",
    "    df = pd.DataFrame(dict)\n",
    "\n",
    "    df.to_csv('Fantasy_Football_Top_25.csv')\n",
    "    \n",
    "    data = pd.read_csv(r'Fantasy_Football_Top_25.csv')\n",
    "    \n",
    "    print(data)\n",
    "    \n",
    "       \n",
    "    \n",
    "    \n",
    "\n",
    "    \n",
    "    \n",
    "    \n",
    "    "
   ]
  },
  {
   "cell_type": "code",
   "execution_count": 7,
   "id": "069bb2ef",
   "metadata": {},
   "outputs": [
    {
     "name": "stdout",
     "output_type": "stream",
     "text": [
      "Choose a position: te\n",
      "    Unnamed: 0          Player  Points  Average        date\n",
      "0            0    Travis Kelce   238.7     21.7  2022-12-02\n",
      "1            1    Mark Andrews   144.8     14.5  2022-12-02\n",
      "2            2  T.J. Hockenson   136.7     12.4  2022-12-02\n",
      "3            3       Zach Ertz   115.6     11.6  2022-12-02\n",
      "4            4  Dallas Goedert   113.4     12.6  2022-12-02\n",
      "5            5  Pat Freiermuth   105.1     10.5  2022-12-02\n",
      "6            6   George Kittle   103.0     11.4  2022-12-02\n",
      "7            7    Hayden Hurst    96.8      8.8  2022-12-02\n",
      "8            8     David Njoku    96.8     10.8  2022-12-02\n",
      "9            9   Juwan Johnson    95.9      8.0  2022-12-02\n",
      "10          10   Tyler Conklin    94.2      8.6  2022-12-02\n",
      "11          11     Taysom Hill    93.6      8.5  2022-12-02\n",
      "12          12       Cole Kmet    93.5      7.8  2022-12-02\n",
      "13          13    Tyler Higbee    91.0      9.1  2022-12-02\n",
      "14          14  Gerald Everett    90.2      9.0  2022-12-02\n",
      "15          15   Robert Tonyan    86.2      7.2  2022-12-02\n",
      "16          16     Evan Engram    80.6      7.3  2022-12-02\n",
      "17          17  Dalton Schultz    80.0      8.9  2022-12-02\n",
      "18          18     Dawson Knox    77.7      7.8  2022-12-02\n",
      "19          19      Kyle Pitts    75.6      7.6  2022-12-02\n",
      "20          20    Mike Gesicki    74.9      6.8  2022-12-02\n",
      "21          21     Will Dissly    73.5      6.7  2022-12-02\n",
      "22          22       Noah Fant    73.0      6.6  2022-12-02\n",
      "23          23    Hunter Henry    67.3      6.1  2022-12-02\n",
      "24          24   Foster Moreau    62.6      7.8  2022-12-02\n"
     ]
    }
   ],
   "source": [
    "fantasy_update()"
   ]
  },
  {
   "cell_type": "code",
   "execution_count": null,
   "id": "cd0c3937",
   "metadata": {},
   "outputs": [],
   "source": []
  }
 ],
 "metadata": {
  "kernelspec": {
   "display_name": "Python 3 (ipykernel)",
   "language": "python",
   "name": "python3"
  },
  "language_info": {
   "codemirror_mode": {
    "name": "ipython",
    "version": 3
   },
   "file_extension": ".py",
   "mimetype": "text/x-python",
   "name": "python",
   "nbconvert_exporter": "python",
   "pygments_lexer": "ipython3",
   "version": "3.9.7"
  }
 },
 "nbformat": 4,
 "nbformat_minor": 5
}
